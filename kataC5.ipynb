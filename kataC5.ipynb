{
 "cells": [
  {
   "cell_type": "markdown",
   "metadata": {},
   "source": [
    "Operadores aritmeticos"
   ]
  },
  {
   "cell_type": "code",
   "execution_count": 4,
   "metadata": {},
   "outputs": [
    {
     "ename": "SyntaxError",
     "evalue": "invalid syntax (2258045122.py, line 5)",
     "output_type": "error",
     "traceback": [
      "\u001b[1;36m  Input \u001b[1;32mIn [4]\u001b[1;36m\u001b[0m\n\u001b[1;33m    if (res == (\"si\") || (res == \"s\") ): #no se como definir el o en python jeje la , refiere a eso\u001b[0m\n\u001b[1;37m                       ^\u001b[0m\n\u001b[1;31mSyntaxError\u001b[0m\u001b[1;31m:\u001b[0m invalid syntax\n"
     ]
    }
   ],
   "source": [
    "\n",
    "\n",
    "first_planet = 149597870\n",
    "second_planet = 778547200\n",
    "\n",
    "res= input(\"Digita s o si para ingreas datos\")\n",
    "if (res == (\"si\") || (res == \"s\") ): #no se como definir el o en python jeje la , refiere a eso\n",
    "    first_planet = int(input(\"Digita en numero entero el valor\"))\n",
    "    second_planet = int(input(\"Digita en numero entero el valor\"))\n",
    "distance_km = second_planet - first_planet\n",
    "print(distance_km)           #diferencias entre planetas (no se aceptan datos de entrada para este problema)\n",
    "\n",
    "distance_mi = distance_km * 0.621\n",
    "print(distance_mi)    #conversion a kilometros (tal vez solo lo pusieropn para comprobar) "
   ]
  },
  {
   "cell_type": "code",
   "execution_count": null,
   "metadata": {},
   "outputs": [],
   "source": [
    "# Almacenar las entradas del usuario\n",
    "first_planet = input('Introduzca la distancia del sol para el primer planeta en KM')\n",
    "second_planet = input('Introduzca la distancia desde el sol para el segundo planeta en KM')\n",
    "# Convierte las cadenas de ambos planetas a números enteros\n",
    "first_planet = int(first_planet)\n",
    "second_planet = int(second_planet)\n",
    "# Realizar el cálculo y determinar el valor absoluto\n",
    "distance_km = second_planet - first_planet\n",
    "print(distance_km)\n",
    "\n",
    "# Convertir de KM a Millas\n",
    "distance_mi = distance_km * 0.621\n",
    "print(abs(distance_mi)) #no entendi bien este apartado"
   ]
  }
 ],
 "metadata": {
  "interpreter": {
   "hash": "91fd92c0b7a0932556349edc2297388b39de5b77cd02fd472e0ef0048cb71fe9"
  },
  "kernelspec": {
   "display_name": "Python 3.10.2 64-bit",
   "language": "python",
   "name": "python3"
  },
  "language_info": {
   "codemirror_mode": {
    "name": "ipython",
    "version": 3
   },
   "file_extension": ".py",
   "mimetype": "text/x-python",
   "name": "python",
   "nbconvert_exporter": "python",
   "pygments_lexer": "ipython3",
   "version": "3.10.2"
  },
  "orig_nbformat": 4
 },
 "nbformat": 4,
 "nbformat_minor": 2
}
