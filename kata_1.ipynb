{
 "cells": [
  {
   "cell_type": "markdown",
   "metadata": {},
   "source": [
    "# Kata 1"
   ]
  },
  {
   "cell_type": "markdown",
   "metadata": {},
   "source": [
    "Primer Codigo\n",
    "## En python"
   ]
  },
  {
   "cell_type": "code",
   "execution_count": null,
   "metadata": {},
   "outputs": [
    {
     "name": "stdout",
     "output_type": "stream",
     "text": [
      "Today's date is: 15/02/2020\n",
      "La fecha del dia de corrido de este programa es:2022-02-15\n"
     ]
    }
   ],
   "source": [
    "from datetime import date\n",
    "fech=date.today()\n",
    "print(\"Today's date is: \"+ \"15/02/2020\")\n",
    "print (\"La fecha del dia de corrido de este programa es:\"+str(fech))"
   ]
  },
  {
   "cell_type": "markdown",
   "metadata": {},
   "source": [
    "Intento de programa con datos del usuario"
   ]
  },
  {
   "cell_type": "code",
   "execution_count": 1,
   "metadata": {},
   "outputs": [],
   "source": [
    "parsec = 11 \n",
    "\n",
    "lightyears = 0\n",
    "luz =(input(\"Digite el numero en años luz: \")) \n",
    "\n",
    "\n",
    "print(str(parsec) + \" parsec, is \" + str(lightyears) + \" lightyears\")"
   ]
  },
  {
   "cell_type": "markdown",
   "metadata": {},
   "source": [
    "Convertidor de unidades"
   ]
  },
  {
   "cell_type": "code",
   "execution_count": 1,
   "metadata": {},
   "outputs": [
    {
     "name": "stdout",
     "output_type": "stream",
     "text": [
      "11 parsec, is 35.877159999999996 lightyears\n"
     ]
    }
   ],
   "source": [
    "parsec = 11\n",
    "lightyears = 3.26156 * parsec\n",
    "\n",
    "print(str(parsec) + \" parsec, is \" + str(lightyears) + \" lightyears\")"
   ]
  },
  {
   "cell_type": "markdown",
   "metadata": {},
   "source": [
    "Creando entornos virtuales"
   ]
  },
  {
   "cell_type": "code",
   "execution_count": null,
   "metadata": {},
   "outputs": [],
   "source": [
    "#solo pongo el codigo jeje por que no corre aqui\n",
    "#si me corrio en la CMD de windows \n",
    " python3 -m venv env \n",
    " source env/bin/activate\n",
    " pip freeze\n",
    " pip install python-dateutil\n",
    " pip freeze\n",
    " deactivate"
   ]
  }
 ],
 "metadata": {
  "interpreter": {
   "hash": "968d58b05fac4492dee14d9724f70a84c13868e6ccc56ad807cb0298fc131e5b"
  },
  "kernelspec": {
   "display_name": "Python 3.9.10 64-bit (windows store)",
   "language": "python",
   "name": "python3"
  },
  "language_info": {
   "codemirror_mode": {
    "name": "ipython",
    "version": 3
   },
   "file_extension": ".py",
   "mimetype": "text/x-python",
   "name": "python",
   "nbconvert_exporter": "python",
   "pygments_lexer": "ipython3",
   "version": "3.9.10"
  },
  "orig_nbformat": 4
 },
 "nbformat": 4,
 "nbformat_minor": 2
}
